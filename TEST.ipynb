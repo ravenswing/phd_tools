{
 "cells": [
  {
   "cell_type": "code",
   "execution_count": 1,
   "id": "d735c87f",
   "metadata": {},
   "outputs": [],
   "source": [
    "import numpy as np\n",
    "import pandas as pd"
   ]
  },
  {
   "cell_type": "code",
   "execution_count": 2,
   "id": "4357ee69",
   "metadata": {},
   "outputs": [],
   "source": [
    "df = pd.DataFrame(columns=['system', 'rep', 'data','mean','std'])\n",
    "data=np.array([10,20,30,40,50,60])\n",
    "new_ent = pd.DataFrame({'system': 'test',\n",
    "                                'rep': 1,\n",
    "                                'data': data,\n",
    "                                'mean': 1.4,\n",
    "                                'std': 0.07,\n",
    "                               })\n",
    "df = pd.concat([df, new_ent])"
   ]
  },
  {
   "cell_type": "code",
   "execution_count": 3,
   "id": "9ed51d99",
   "metadata": {},
   "outputs": [
    {
     "data": {
      "text/html": [
       "<div>\n",
       "<style scoped>\n",
       "    .dataframe tbody tr th:only-of-type {\n",
       "        vertical-align: middle;\n",
       "    }\n",
       "\n",
       "    .dataframe tbody tr th {\n",
       "        vertical-align: top;\n",
       "    }\n",
       "\n",
       "    .dataframe thead th {\n",
       "        text-align: right;\n",
       "    }\n",
       "</style>\n",
       "<table border=\"1\" class=\"dataframe\">\n",
       "  <thead>\n",
       "    <tr style=\"text-align: right;\">\n",
       "      <th></th>\n",
       "      <th>system</th>\n",
       "      <th>rep</th>\n",
       "      <th>data</th>\n",
       "      <th>mean</th>\n",
       "      <th>std</th>\n",
       "    </tr>\n",
       "  </thead>\n",
       "  <tbody>\n",
       "    <tr>\n",
       "      <th>0</th>\n",
       "      <td>test</td>\n",
       "      <td>1</td>\n",
       "      <td>10</td>\n",
       "      <td>1.4</td>\n",
       "      <td>0.07</td>\n",
       "    </tr>\n",
       "    <tr>\n",
       "      <th>1</th>\n",
       "      <td>test</td>\n",
       "      <td>1</td>\n",
       "      <td>20</td>\n",
       "      <td>1.4</td>\n",
       "      <td>0.07</td>\n",
       "    </tr>\n",
       "    <tr>\n",
       "      <th>2</th>\n",
       "      <td>test</td>\n",
       "      <td>1</td>\n",
       "      <td>30</td>\n",
       "      <td>1.4</td>\n",
       "      <td>0.07</td>\n",
       "    </tr>\n",
       "    <tr>\n",
       "      <th>3</th>\n",
       "      <td>test</td>\n",
       "      <td>1</td>\n",
       "      <td>40</td>\n",
       "      <td>1.4</td>\n",
       "      <td>0.07</td>\n",
       "    </tr>\n",
       "    <tr>\n",
       "      <th>4</th>\n",
       "      <td>test</td>\n",
       "      <td>1</td>\n",
       "      <td>50</td>\n",
       "      <td>1.4</td>\n",
       "      <td>0.07</td>\n",
       "    </tr>\n",
       "    <tr>\n",
       "      <th>5</th>\n",
       "      <td>test</td>\n",
       "      <td>1</td>\n",
       "      <td>60</td>\n",
       "      <td>1.4</td>\n",
       "      <td>0.07</td>\n",
       "    </tr>\n",
       "  </tbody>\n",
       "</table>\n",
       "</div>"
      ],
      "text/plain": [
       "  system rep data  mean   std\n",
       "0   test   1   10   1.4  0.07\n",
       "1   test   1   20   1.4  0.07\n",
       "2   test   1   30   1.4  0.07\n",
       "3   test   1   40   1.4  0.07\n",
       "4   test   1   50   1.4  0.07\n",
       "5   test   1   60   1.4  0.07"
      ]
     },
     "execution_count": 3,
     "metadata": {},
     "output_type": "execute_result"
    }
   ],
   "source": []
  },
  {
   "cell_type": "code",
   "execution_count": 100,
   "id": "4a68e280",
   "metadata": {},
   "outputs": [
    {
     "data": {
      "text/html": [
       "<div>\n",
       "<style scoped>\n",
       "    .dataframe tbody tr th:only-of-type {\n",
       "        vertical-align: middle;\n",
       "    }\n",
       "\n",
       "    .dataframe tbody tr th {\n",
       "        vertical-align: top;\n",
       "    }\n",
       "\n",
       "    .dataframe thead tr th {\n",
       "        text-align: left;\n",
       "    }\n",
       "\n",
       "    .dataframe thead tr:last-of-type th {\n",
       "        text-align: right;\n",
       "    }\n",
       "</style>\n",
       "<table border=\"1\" class=\"dataframe\">\n",
       "  <thead>\n",
       "    <tr>\n",
       "      <th></th>\n",
       "      <th colspan=\"6\" halign=\"left\">a2b1</th>\n",
       "      <th colspan=\"6\" halign=\"left\">a2b2</th>\n",
       "    </tr>\n",
       "    <tr>\n",
       "      <th></th>\n",
       "      <th colspan=\"3\" halign=\"left\">A769</th>\n",
       "      <th colspan=\"3\" halign=\"left\">PF739</th>\n",
       "      <th colspan=\"3\" halign=\"left\">A769</th>\n",
       "      <th colspan=\"3\" halign=\"left\">PF739</th>\n",
       "    </tr>\n",
       "    <tr>\n",
       "      <th></th>\n",
       "      <th>rep1</th>\n",
       "      <th>rep2</th>\n",
       "      <th>rep3</th>\n",
       "      <th>rep1</th>\n",
       "      <th>rep2</th>\n",
       "      <th>rep3</th>\n",
       "      <th>rep1</th>\n",
       "      <th>rep2</th>\n",
       "      <th>rep3</th>\n",
       "      <th>rep1</th>\n",
       "      <th>rep2</th>\n",
       "      <th>rep3</th>\n",
       "    </tr>\n",
       "    <tr>\n",
       "      <th>t</th>\n",
       "      <th></th>\n",
       "      <th></th>\n",
       "      <th></th>\n",
       "      <th></th>\n",
       "      <th></th>\n",
       "      <th></th>\n",
       "      <th></th>\n",
       "      <th></th>\n",
       "      <th></th>\n",
       "      <th></th>\n",
       "      <th></th>\n",
       "      <th></th>\n",
       "    </tr>\n",
       "  </thead>\n",
       "  <tbody>\n",
       "    <tr>\n",
       "      <th>10</th>\n",
       "      <td>0.89</td>\n",
       "      <td>0.98</td>\n",
       "      <td>0.31</td>\n",
       "      <td>0.89</td>\n",
       "      <td>0.98</td>\n",
       "      <td>0.31</td>\n",
       "      <td>0.89</td>\n",
       "      <td>0.98</td>\n",
       "      <td>0.31</td>\n",
       "      <td>0.89</td>\n",
       "      <td>0.98</td>\n",
       "      <td>0.31</td>\n",
       "    </tr>\n",
       "    <tr>\n",
       "      <th>20</th>\n",
       "      <td>0.34</td>\n",
       "      <td>0.78</td>\n",
       "      <td>0.34</td>\n",
       "      <td>0.34</td>\n",
       "      <td>0.78</td>\n",
       "      <td>0.34</td>\n",
       "      <td>0.34</td>\n",
       "      <td>0.78</td>\n",
       "      <td>0.34</td>\n",
       "      <td>0.34</td>\n",
       "      <td>0.78</td>\n",
       "      <td>0.34</td>\n",
       "    </tr>\n",
       "  </tbody>\n",
       "</table>\n",
       "</div>"
      ],
      "text/plain": [
       "    a2b1                                a2b2                              \n",
       "    A769             PF739              A769             PF739            \n",
       "    rep1  rep2  rep3  rep1  rep2  rep3  rep1  rep2  rep3  rep1  rep2  rep3\n",
       "t                                                                         \n",
       "10  0.89  0.98  0.31  0.89  0.98  0.31  0.89  0.98  0.31  0.89  0.98  0.31\n",
       "20  0.34  0.78  0.34  0.34  0.78  0.34  0.34  0.78  0.34  0.34  0.78  0.34"
      ]
     },
     "execution_count": 100,
     "metadata": {},
     "output_type": "execute_result"
    }
   ],
   "source": [
    "# initiate test df\n",
    "\n",
    "d = {}\n",
    "\n",
    "d['A769'] = pd.DataFrame(columns=['t', 'rep1', 'rep2', 'rep3'],\n",
    "                                         data=[[10, 0.89, 0.98, 0.31],\n",
    "                                               [20, 0.34, 0.78, 0.34]]).set_index('t')\n",
    "\n",
    "pd.concat(d, axis=1)\n",
    "\n",
    "d['PF739'] = pd.DataFrame(columns=['t', 'rep1', 'rep2', 'rep3'],\n",
    "                                         data=[[10, 0.89, 0.98, 0.31],\n",
    "                                               [20, 0.34, 0.78, 0.34]]).set_index('t')\n",
    "\n",
    "df = pd.concat(d, axis=1)\n",
    "df2 = df.copy()\n",
    "s = {'a2b1':df, 'a2b2':df2}\n",
    "new = pd.concat(s,axis=1)\n",
    "new"
   ]
  },
  {
   "cell_type": "code",
   "execution_count": 111,
   "id": "5317aefd",
   "metadata": {},
   "outputs": [
    {
     "name": "stdout",
     "output_type": "stream",
     "text": [
      "Updating values in DataFrame.\n"
     ]
    }
   ],
   "source": [
    "# create new column\n",
    "\n",
    "\n",
    "new_data = np.array([[10, 10.89],[20, 10.34]])\n",
    "\n",
    "inp = pd.DataFrame(columns=['t', 'rep1'],\n",
    "                   data=new_data).set_index('t')\n",
    "inp_l = pd.concat({'MT':inp}, axis=1)\n",
    "inp_s = pd.concat({'a2b1':inp_l}, axis=1)\n",
    "\n",
    "\n",
    "if any([(mi == inp_s.columns)[0] for mi in new.columns]):\n",
    "    print(\"Updating values in DataFrame.\")\n",
    "    new.update(inp_s)\n",
    "else:\n",
    "    print(\"Adding new values to DataFrame.\")\n",
    "    new = new.join(inp_s)\n",
    "\n",
    "# reorder columns\n",
    "new = new.iloc[:, new.columns.sortlevel(0, sort_remaining=True)[1]]"
   ]
  },
  {
   "cell_type": "code",
   "execution_count": 113,
   "id": "59be9b84",
   "metadata": {},
   "outputs": [],
   "source": [
    "new.to_hdf('./test.h5',key='df')"
   ]
  },
  {
   "cell_type": "code",
   "execution_count": 114,
   "id": "dfb47f9a",
   "metadata": {},
   "outputs": [],
   "source": [
    "reload = pd.read_hdf('./test.h5',key='df')"
   ]
  },
  {
   "cell_type": "code",
   "execution_count": 118,
   "id": "f421871b",
   "metadata": {},
   "outputs": [
    {
     "data": {
      "text/html": [
       "<div>\n",
       "<style scoped>\n",
       "    .dataframe tbody tr th:only-of-type {\n",
       "        vertical-align: middle;\n",
       "    }\n",
       "\n",
       "    .dataframe tbody tr th {\n",
       "        vertical-align: top;\n",
       "    }\n",
       "\n",
       "    .dataframe thead tr th {\n",
       "        text-align: left;\n",
       "    }\n",
       "\n",
       "    .dataframe thead tr:last-of-type th {\n",
       "        text-align: right;\n",
       "    }\n",
       "</style>\n",
       "<table border=\"1\" class=\"dataframe\">\n",
       "  <thead>\n",
       "    <tr>\n",
       "      <th></th>\n",
       "      <th colspan=\"3\" halign=\"left\">A769</th>\n",
       "      <th colspan=\"2\" halign=\"left\">MT</th>\n",
       "      <th colspan=\"3\" halign=\"left\">PF739</th>\n",
       "    </tr>\n",
       "    <tr>\n",
       "      <th></th>\n",
       "      <th>rep1</th>\n",
       "      <th>rep2</th>\n",
       "      <th>rep3</th>\n",
       "      <th>rep1</th>\n",
       "      <th>rep2</th>\n",
       "      <th>rep1</th>\n",
       "      <th>rep2</th>\n",
       "      <th>rep3</th>\n",
       "    </tr>\n",
       "    <tr>\n",
       "      <th>t</th>\n",
       "      <th></th>\n",
       "      <th></th>\n",
       "      <th></th>\n",
       "      <th></th>\n",
       "      <th></th>\n",
       "      <th></th>\n",
       "      <th></th>\n",
       "      <th></th>\n",
       "    </tr>\n",
       "  </thead>\n",
       "  <tbody>\n",
       "    <tr>\n",
       "      <th>10</th>\n",
       "      <td>0.89</td>\n",
       "      <td>2.89</td>\n",
       "      <td>0.31</td>\n",
       "      <td>10.89</td>\n",
       "      <td>2.89</td>\n",
       "      <td>0.89</td>\n",
       "      <td>0.98</td>\n",
       "      <td>0.31</td>\n",
       "    </tr>\n",
       "    <tr>\n",
       "      <th>20</th>\n",
       "      <td>0.34</td>\n",
       "      <td>2.34</td>\n",
       "      <td>0.34</td>\n",
       "      <td>10.34</td>\n",
       "      <td>2.34</td>\n",
       "      <td>0.34</td>\n",
       "      <td>0.78</td>\n",
       "      <td>0.34</td>\n",
       "    </tr>\n",
       "  </tbody>\n",
       "</table>\n",
       "</div>"
      ],
      "text/plain": [
       "    A769                 MT       PF739            \n",
       "    rep1  rep2  rep3   rep1  rep2  rep1  rep2  rep3\n",
       "t                                                  \n",
       "10  0.89  2.89  0.31  10.89  2.89  0.89  0.98  0.31\n",
       "20  0.34  2.34  0.34  10.34  2.34  0.34  0.78  0.34"
      ]
     },
     "execution_count": 118,
     "metadata": {},
     "output_type": "execute_result"
    }
   ],
   "source": [
    "new.a2b1"
   ]
  },
  {
   "cell_type": "code",
   "execution_count": 117,
   "id": "b22a4ece",
   "metadata": {},
   "outputs": [
    {
     "data": {
      "text/html": [
       "<div>\n",
       "<style scoped>\n",
       "    .dataframe tbody tr th:only-of-type {\n",
       "        vertical-align: middle;\n",
       "    }\n",
       "\n",
       "    .dataframe tbody tr th {\n",
       "        vertical-align: top;\n",
       "    }\n",
       "\n",
       "    .dataframe thead tr th {\n",
       "        text-align: left;\n",
       "    }\n",
       "\n",
       "    .dataframe thead tr:last-of-type th {\n",
       "        text-align: right;\n",
       "    }\n",
       "</style>\n",
       "<table border=\"1\" class=\"dataframe\">\n",
       "  <thead>\n",
       "    <tr>\n",
       "      <th></th>\n",
       "      <th colspan=\"3\" halign=\"left\">A769</th>\n",
       "      <th colspan=\"2\" halign=\"left\">MT</th>\n",
       "      <th colspan=\"3\" halign=\"left\">PF739</th>\n",
       "    </tr>\n",
       "    <tr>\n",
       "      <th></th>\n",
       "      <th>rep1</th>\n",
       "      <th>rep2</th>\n",
       "      <th>rep3</th>\n",
       "      <th>rep1</th>\n",
       "      <th>rep2</th>\n",
       "      <th>rep1</th>\n",
       "      <th>rep2</th>\n",
       "      <th>rep3</th>\n",
       "    </tr>\n",
       "    <tr>\n",
       "      <th>t</th>\n",
       "      <th></th>\n",
       "      <th></th>\n",
       "      <th></th>\n",
       "      <th></th>\n",
       "      <th></th>\n",
       "      <th></th>\n",
       "      <th></th>\n",
       "      <th></th>\n",
       "    </tr>\n",
       "  </thead>\n",
       "  <tbody>\n",
       "    <tr>\n",
       "      <th>10</th>\n",
       "      <td>0.89</td>\n",
       "      <td>2.89</td>\n",
       "      <td>0.31</td>\n",
       "      <td>10.89</td>\n",
       "      <td>2.89</td>\n",
       "      <td>0.89</td>\n",
       "      <td>0.98</td>\n",
       "      <td>0.31</td>\n",
       "    </tr>\n",
       "    <tr>\n",
       "      <th>20</th>\n",
       "      <td>0.34</td>\n",
       "      <td>2.34</td>\n",
       "      <td>0.34</td>\n",
       "      <td>10.34</td>\n",
       "      <td>2.34</td>\n",
       "      <td>0.34</td>\n",
       "      <td>0.78</td>\n",
       "      <td>0.34</td>\n",
       "    </tr>\n",
       "  </tbody>\n",
       "</table>\n",
       "</div>"
      ],
      "text/plain": [
       "    A769                 MT       PF739            \n",
       "    rep1  rep2  rep3   rep1  rep2  rep1  rep2  rep3\n",
       "t                                                  \n",
       "10  0.89  2.89  0.31  10.89  2.89  0.89  0.98  0.31\n",
       "20  0.34  2.34  0.34  10.34  2.34  0.34  0.78  0.34"
      ]
     },
     "execution_count": 117,
     "metadata": {},
     "output_type": "execute_result"
    }
   ],
   "source": [
    "reload.a2b1"
   ]
  },
  {
   "cell_type": "code",
   "execution_count": 121,
   "id": "765cf0e5",
   "metadata": {},
   "outputs": [
    {
     "data": {
      "text/plain": [
       "array([10, 20])"
      ]
     },
     "execution_count": 121,
     "metadata": {},
     "output_type": "execute_result"
    }
   ],
   "source": []
  },
  {
   "cell_type": "code",
   "execution_count": 24,
   "id": "4cfe1dcc",
   "metadata": {},
   "outputs": [],
   "source": [
    "new['a2b1']['A769']['rep1'] = np.array([1,2])"
   ]
  },
  {
   "cell_type": "code",
   "execution_count": 122,
   "id": "8c53b464",
   "metadata": {},
   "outputs": [],
   "source": [
    "from glob import glob"
   ]
  },
  {
   "cell_type": "code",
   "execution_count": 130,
   "id": "7a4fdf90",
   "metadata": {},
   "outputs": [
    {
     "data": {
      "text/plain": [
       "['/media/rhys/Storage/ampk_metad_all_data/a2b2+MT47/06-MetaD/R1/metad_a2b2+MT47_final.xtc',\n",
       " '/media/rhys/Storage/ampk_metad_all_data/a2b2+MT47/06-MetaD/R3/metad_a2b2+MT47_final.xtc',\n",
       " '/media/rhys/Storage/ampk_metad_all_data/a2b2+MT47/06-MetaD/R2/metad_a2b2+MT47_final.xtc',\n",
       " '/media/rhys/Storage/ampk_metad_all_data/a2b1+SC4/06-MetaD/R1/metad_a2b1+SC4_final.xtc',\n",
       " '/media/rhys/Storage/ampk_metad_all_data/a2b1+SC4/06-MetaD/R3/metad_a2b1+SC4_final.xtc',\n",
       " '/media/rhys/Storage/ampk_metad_all_data/a2b1+SC4/06-MetaD/R2/metad_a2b1+SC4_final.xtc',\n",
       " '/media/rhys/Storage/ampk_metad_all_data/a2b2+SC4/06-MetaD/R1/metad_a2b2+SC4_final.xtc',\n",
       " '/media/rhys/Storage/ampk_metad_all_data/a2b2+SC4/06-MetaD/R3/metad_a2b2+SC4_final.xtc',\n",
       " '/media/rhys/Storage/ampk_metad_all_data/a2b2+SC4/06-MetaD/R2/metad_a2b2+SC4_final.xtc',\n",
       " '/media/rhys/Storage/ampk_metad_all_data/a2b1+MT47/06-MetaD/R1/metad_a2b1+MT47_final.xtc',\n",
       " '/media/rhys/Storage/ampk_metad_all_data/a2b1+MT47/06-MetaD/R3/metad_a2b1+MT47_final.xtc',\n",
       " '/media/rhys/Storage/ampk_metad_all_data/a2b1+MT47/06-MetaD/R2/metad_a2b1+MT47_final.xtc',\n",
       " '/media/rhys/Storage/ampk_metad_all_data/a2b2+PF739/06-MetaD/R1/metad_a2b2+PF739_final.xtc',\n",
       " '/media/rhys/Storage/ampk_metad_all_data/a2b2+PF739/06-MetaD/R3/metad_a2b2+PF739_final.xtc',\n",
       " '/media/rhys/Storage/ampk_metad_all_data/a2b2+PF739/06-MetaD/R2/metad_a2b2+PF739_final.xtc',\n",
       " '/media/rhys/Storage/ampk_metad_all_data/a2b1+PF739/06-MetaD/R1/metad_a2b1+PF739_final.xtc',\n",
       " '/media/rhys/Storage/ampk_metad_all_data/a2b1+PF739/06-MetaD/R3/metad_a2b1+PF739_final.xtc',\n",
       " '/media/rhys/Storage/ampk_metad_all_data/a2b1+PF739/06-MetaD/R2/metad_a2b1+PF739_final.xtc',\n",
       " '/media/rhys/Storage/ampk_metad_all_data/a2b2+A769/06-MetaD/R1/metad_a2b2+A769_final.xtc',\n",
       " '/media/rhys/Storage/ampk_metad_all_data/a2b2+A769/06-MetaD/R3/metad_a2b2+A769_final.xtc',\n",
       " '/media/rhys/Storage/ampk_metad_all_data/a2b2+A769/06-MetaD/R2/metad_a2b2+A769_final.xtc',\n",
       " '/media/rhys/Storage/ampk_metad_all_data/a2b1+A769/06-MetaD/R1/metad_a2b1+A769_final.xtc',\n",
       " '/media/rhys/Storage/ampk_metad_all_data/a2b1+A769/06-MetaD/R3/metad_a2b1+A769_final.xtc',\n",
       " '/media/rhys/Storage/ampk_metad_all_data/a2b1+A769/06-MetaD/R2/metad_a2b1+A769_final.xtc',\n",
       " '/media/rhys/Storage/ampk_metad_all_data/a2b1+MK87/06-MetaD/R1/metad_a2b1+MK87_final.xtc',\n",
       " '/media/rhys/Storage/ampk_metad_all_data/a2b1+MK87/06-MetaD/R3/metad_a2b1+MK87_final.xtc',\n",
       " '/media/rhys/Storage/ampk_metad_all_data/a2b1+MK87/06-MetaD/R2/metad_a2b1+MK87_final.xtc',\n",
       " '/media/rhys/Storage/ampk_metad_all_data/a2b2+MK87/06-MetaD/R1/metad_a2b2+MK87_final.xtc',\n",
       " '/media/rhys/Storage/ampk_metad_all_data/a2b2+MK87/06-MetaD/R3/metad_a2b2+MK87_final.xtc',\n",
       " '/media/rhys/Storage/ampk_metad_all_data/a2b2+MK87/06-MetaD/R2/metad_a2b2+MK87_final.xtc']"
      ]
     },
     "execution_count": 130,
     "metadata": {},
     "output_type": "execute_result"
    }
   ],
   "source": [
    "glob('/media/rhys/Storage/ampk_metad_all_data/**/R*/*_final.xtc', recursive=True)"
   ]
  },
  {
   "cell_type": "code",
   "execution_count": 131,
   "id": "5a1cc688",
   "metadata": {},
   "outputs": [],
   "source": [
    "A = '/media/rhys/Storage/ampk_metad_all_data/a2b2+MT47/06-MetaD/R1/metad_a2b2+MT47_final.xtc'"
   ]
  },
  {
   "cell_type": "code",
   "execution_count": 133,
   "id": "0ee130a0",
   "metadata": {},
   "outputs": [
    {
     "data": {
      "text/plain": [
       "'/media/rhys/Storage/ampk_metad_all_data/a2b2+MT47/06-MetaD/R1'"
      ]
     },
     "execution_count": 133,
     "metadata": {},
     "output_type": "execute_result"
    }
   ],
   "source": [
    "'/'.join(A.split('/')[:-1])"
   ]
  },
  {
   "cell_type": "code",
   "execution_count": null,
   "id": "c5167fcc",
   "metadata": {},
   "outputs": [],
   "source": []
  },
  {
   "cell_type": "code",
   "execution_count": 5,
   "id": "9f1289b3",
   "metadata": {},
   "outputs": [],
   "source": [
    "import sys\n",
    "sys.path.append('/home/rhys/phd_tools/SAPS')                                    \n",
    "import analysis_tools as at       \n",
    "\n",
    "data = at.measure_rmsd('/media/rhys/Storage/ampk_metad_all_data/a2b2+MT47/06-MetaD/R1/md_dry.pdb',\n",
    "                        '/media/rhys/Storage/ampk_metad_all_data/a2b2+MT47/06-MetaD/R1/metad_a2b2+MT47_final.xtc',\n",
    "                      '/media/rhys/Storage/ampk_metad_all_data/a2b2+MT47/06-MetaD/R1/md_dry.pdb',\n",
    "                      [\"resname MOL and not name H*\"]).run()"
   ]
  },
  {
   "cell_type": "code",
   "execution_count": 12,
   "id": "1937f090",
   "metadata": {},
   "outputs": [],
   "source": [
    "bbdata = data.rmsd[:,[1,2]]\n",
    "ligdata = data.rmsd[:,[1,3]]"
   ]
  },
  {
   "cell_type": "code",
   "execution_count": 13,
   "id": "9af9af09",
   "metadata": {},
   "outputs": [
    {
     "data": {
      "text/plain": [
       "array([[0.00000000e+00, 8.96130647e-06],\n",
       "       [2.00000000e+00, 4.64749442e-01],\n",
       "       [4.00000000e+00, 4.62080287e-01],\n",
       "       ...,\n",
       "       [4.99996000e+05, 1.38753630e+01],\n",
       "       [4.99998000e+05, 1.37225064e+01],\n",
       "       [5.00000000e+05, 1.36800715e+01]])"
      ]
     },
     "execution_count": 13,
     "metadata": {},
     "output_type": "execute_result"
    }
   ],
   "source": [
    "ligdata"
   ]
  },
  {
   "cell_type": "code",
   "execution_count": null,
   "id": "d2bd7d36",
   "metadata": {},
   "outputs": [],
   "source": []
  }
 ],
 "metadata": {
  "kernelspec": {
   "display_name": "Python 3 (ipykernel)",
   "language": "python",
   "name": "python3"
  },
  "language_info": {
   "codemirror_mode": {
    "name": "ipython",
    "version": 3
   },
   "file_extension": ".py",
   "mimetype": "text/x-python",
   "name": "python",
   "nbconvert_exporter": "python",
   "pygments_lexer": "ipython3",
   "version": "3.9.15"
  }
 },
 "nbformat": 4,
 "nbformat_minor": 5
}
